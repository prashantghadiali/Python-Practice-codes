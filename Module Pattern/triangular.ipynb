{
 "cells": [
  {
   "cell_type": "code",
   "execution_count": 5,
   "metadata": {},
   "outputs": [
    {
     "name": "stdout",
     "output_type": "stream",
     "text": [
      "1\n",
      "12\n",
      "123\n",
      "1234\n"
     ]
    }
   ],
   "source": [
    "N =int(input())\n",
    "i = 1\n",
    "while(i <= N):\n",
    "    j = 1\n",
    "    while(j <= i):\n",
    "        print(j, end = \"\")\n",
    "        j = j + 1\n",
    "    print()\n",
    "    i = i + 1"
   ]
  },
  {
   "cell_type": "code",
   "execution_count": 8,
   "metadata": {},
   "outputs": [
    {
     "name": "stdout",
     "output_type": "stream",
     "text": [
      "1\n",
      "23\n",
      "345\n",
      "4567\n"
     ]
    }
   ],
   "source": [
    "N =int(input())\n",
    "i = 1\n",
    "while(i <= N):\n",
    "    j = 1\n",
    "    while(j <= i):\n",
    "        print(j + i - 1, end = \"\")\n",
    "        j = j + 1\n",
    "    print()\n",
    "    i = i + 1"
   ]
  },
  {
   "cell_type": "code",
   "execution_count": 11,
   "metadata": {},
   "outputs": [
    {
     "name": "stdout",
     "output_type": "stream",
     "text": [
      "1\n",
      "11\n",
      "111\n",
      "1111\n"
     ]
    }
   ],
   "source": [
    "N =int(input())\n",
    "i = 1\n",
    "P = 1\n",
    "while(i <= N):\n",
    "    j = 1\n",
    "    while(j <= i):\n",
    "        print(P, end = \"\")\n",
    "        j = j + 1\n",
    "    print()\n",
    "    i = i + 1"
   ]
  },
  {
   "cell_type": "code",
   "execution_count": 12,
   "metadata": {},
   "outputs": [
    {
     "name": "stdout",
     "output_type": "stream",
     "text": [
      "1\n",
      "23\n",
      "456\n",
      "78910\n"
     ]
    }
   ],
   "source": [
    "N =int(input())\n",
    "i = 1\n",
    "P = 1\n",
    "while(i <= N):\n",
    "    j = 1\n",
    "    while(j <= i):\n",
    "        print(P, end = \"\")\n",
    "        j = j + 1\n",
    "        P = P + 1\n",
    "    print()\n",
    "    i = i + 1"
   ]
  },
  {
   "cell_type": "code",
   "execution_count": 14,
   "metadata": {},
   "outputs": [
    {
     "name": "stdout",
     "output_type": "stream",
     "text": [
      "*\n",
      "**\n",
      "***\n",
      "****\n"
     ]
    }
   ],
   "source": [
    "N =int(input())\n",
    "i = 1\n",
    "P = 1\n",
    "while(i <= N):\n",
    "    j = 1\n",
    "    while(j <= i):\n",
    "        print(\"*\", end = \"\")\n",
    "        j = j + 1\n",
    "    print()\n",
    "    i = i + 1"
   ]
  },
  {
   "cell_type": "markdown",
   "metadata": {},
   "source": [
    "Print the following pattern for the given N number of rows.\n",
    "Pattern for N = 4\n",
    "1\n",
    "22\n",
    "333\n",
    "4444"
   ]
  },
  {
   "cell_type": "code",
   "execution_count": 35,
   "metadata": {},
   "outputs": [
    {
     "name": "stdout",
     "output_type": "stream",
     "text": [
      "1\n",
      "23\n",
      "456\n",
      "78910\n"
     ]
    }
   ],
   "source": [
    "N =int(input())\n",
    "i = 1\n",
    "P = 1\n",
    "while(i <= N):\n",
    "    j = 1\n",
    "    while(j <= i):\n",
    "        print(P, end = \"\")\n",
    "        j = j + 1\n",
    "        P = P + 1 \n",
    "    print()\n",
    "    i = i + 1"
   ]
  },
  {
   "cell_type": "code",
   "execution_count": 36,
   "metadata": {},
   "outputs": [
    {
     "name": "stdout",
     "output_type": "stream",
     "text": [
      "1\n",
      "22\n",
      "333\n",
      "4444\n"
     ]
    }
   ],
   "source": [
    "N =int(input())\n",
    "i = 1\n",
    "# P = 1\n",
    "while(i <= N):\n",
    "    j = 1\n",
    "    while(j <= i):\n",
    "        print(i, end = \"\")\n",
    "        j = j + 1\n",
    "        # P = P + 1 \n",
    "    \n",
    "    i = i + 1\n",
    "    print()"
   ]
  },
  {
   "cell_type": "code",
   "execution_count": 41,
   "metadata": {},
   "outputs": [
    {
     "name": "stdout",
     "output_type": "stream",
     "text": [
      "1\n",
      "23\n",
      "456\n",
      "78910\n"
     ]
    }
   ],
   "source": [
    "N =int(input())\n",
    "i = 1\n",
    "P = 1\n",
    "while(i <= N):\n",
    "    j = 1\n",
    "    while(j <= i):\n",
    "        print(P , end = \"\")\n",
    "        j = j + 1\n",
    "        P = P + 1 \n",
    "    print()\n",
    "    i = i + 1"
   ]
  },
  {
   "cell_type": "code",
   "execution_count": 1,
   "metadata": {},
   "outputs": [
    {
     "name": "stdout",
     "output_type": "stream",
     "text": [
      "1\n",
      "21\n",
      "321\n",
      "4321\n"
     ]
    }
   ],
   "source": [
    "N =int(input())\n",
    "i = 1\n",
    "while(i <= N):\n",
    "    j = i\n",
    "    while(j >= 1):\n",
    "        print(j, end = \"\")\n",
    "        j = j - 1 \n",
    "    print()\n",
    "    i = i + 1"
   ]
  }
 ],
 "metadata": {
  "kernelspec": {
   "display_name": "Python 3.10.7 64-bit (microsoft store)",
   "language": "python",
   "name": "python3"
  },
  "language_info": {
   "codemirror_mode": {
    "name": "ipython",
    "version": 3
   },
   "file_extension": ".py",
   "mimetype": "text/x-python",
   "name": "python",
   "nbconvert_exporter": "python",
   "pygments_lexer": "ipython3",
   "version": "3.10.7"
  },
  "orig_nbformat": 4,
  "vscode": {
   "interpreter": {
    "hash": "90c5c0dca48450ef7d71e5b6ab1ec9e6f3872ceb0893ce1be72b8202442b770e"
   }
  }
 },
 "nbformat": 4,
 "nbformat_minor": 2
}
