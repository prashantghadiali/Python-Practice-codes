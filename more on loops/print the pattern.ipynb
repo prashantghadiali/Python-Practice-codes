{
 "cells": [
  {
   "cell_type": "markdown",
   "metadata": {},
   "source": [
    " 1    2   3    4   5\n",
    " 11   12  13   14  15\n",
    " 21   22  23   24  25\n",
    " 16   17  18   19  20\n",
    " 6    7    8   9   10\n",
    "\n",
    " N = 5"
   ]
  },
  {
   "cell_type": "code",
   "execution_count": 12,
   "metadata": {},
   "outputs": [
    {
     "name": "stdout",
     "output_type": "stream",
     "text": [
      "1 2 3 4 5 6 \n",
      " 112 3 4 5 6 \n",
      " 11 123 4 5 6 \n",
      " 11 12 134 5 6 \n",
      " 11 12 13 145 6 \n",
      " 11 12 13 14 156 \n"
     ]
    }
   ],
   "source": [
    "n = int(input())\n",
    "for i in range(1,n+1):\n",
    "    for j in range(1,n+1):\n",
    "        if i>j:\n",
    "            print(' ', end='')\n",
    "        else:\n",
    "            print(j, end='')\n",
    "        if i>j:\n",
    "            print(j+10, end='')\n",
    "        else:\n",
    "            print(\" \", end='')\n",
    "    print()"
   ]
  }
 ],
 "metadata": {
  "kernelspec": {
   "display_name": "Python 3.10.7 64-bit (microsoft store)",
   "language": "python",
   "name": "python3"
  },
  "language_info": {
   "name": "python",
   "version": "3.10.7"
  },
  "orig_nbformat": 4,
  "vscode": {
   "interpreter": {
    "hash": "90c5c0dca48450ef7d71e5b6ab1ec9e6f3872ceb0893ce1be72b8202442b770e"
   }
  }
 },
 "nbformat": 4,
 "nbformat_minor": 2
}
