{
 "cells": [
  {
   "cell_type": "code",
   "execution_count": 21,
   "metadata": {},
   "outputs": [
    {
     "name": "stdout",
     "output_type": "stream",
     "text": [
      " \n",
      "12345\n",
      "1234\n",
      "123\n",
      "12\n",
      "1\n",
      "\n"
     ]
    }
   ],
   "source": [
    "N = int(input())\n",
    "for i in range(N+1, 0, -1):\n",
    "    for space in range(0, N -i, -1):\n",
    "        print(\" \")\n",
    "    for j in range(1, i):\n",
    "        print(j, end=\"\")\n",
    "    print()"
   ]
  },
  {
   "cell_type": "code",
   "execution_count": 28,
   "metadata": {},
   "outputs": [
    {
     "name": "stdout",
     "output_type": "stream",
     "text": [
      "6 5 4 3 2 1 \n",
      "6 5 4 3 2 \n",
      "6 5 4 3 \n",
      "6 5 4 \n",
      "6 5 \n",
      "6 \n"
     ]
    }
   ],
   "source": [
    "n = int(input())\n",
    "i = 1\n",
    "while i <= n :\n",
    "    j = n\n",
    "    while j >= i:\n",
    "        print(j, end = \" \")\n",
    "        j -= 1\n",
    "    print()\n",
    "    i += 1"
   ]
  },
  {
   "cell_type": "code",
   "execution_count": 34,
   "metadata": {},
   "outputs": [
    {
     "name": "stdout",
     "output_type": "stream",
     "text": [
      "123456\n",
      " 23456\n",
      "  3456\n",
      "   456\n",
      "    56\n",
      "     6\n"
     ]
    }
   ],
   "source": [
    "n = int(input())\n",
    "for i in range(1,n+1):\n",
    "    for j in range(1,n+1):\n",
    "        if i>j:\n",
    "            print(' ', end='')\n",
    "        else:\n",
    "            print(j, end='')\n",
    "    print()"
   ]
  },
  {
   "cell_type": "code",
   "execution_count": 36,
   "metadata": {},
   "outputs": [
    {
     "name": "stdout",
     "output_type": "stream",
     "text": [
      "1 2 3 4 5 6 \n",
      " 12 3 4 5 6 \n",
      " 1 23 4 5 6 \n",
      " 1 2 34 5 6 \n",
      " 1 2 3 45 6 \n",
      " 1 2 3 4 56 \n"
     ]
    }
   ],
   "source": [
    "n = int(input())\n",
    "for i in range(1,n+1):\n",
    "    for j in range(1,n+1):\n",
    "        if i>j:\n",
    "            print(' ', end='')\n",
    "        else:\n",
    "            print(j, end='')\n",
    "        if i>j:\n",
    "            print(j, end='')\n",
    "        else:\n",
    "            print(\" \", end='')\n",
    "    print()"
   ]
  },
  {
   "cell_type": "code",
   "execution_count": 71,
   "metadata": {},
   "outputs": [
    {
     "name": "stdout",
     "output_type": "stream",
     "text": [
      "123456\n",
      " 23456\n",
      "  3456\n",
      "   456\n",
      "    56\n",
      "     6\n",
      "    56\n",
      "   456\n",
      "  3456\n",
      " 23456\n",
      "123456\n"
     ]
    }
   ],
   "source": [
    "n = int(input())\n",
    "for i in range(1,n+1):\n",
    "    for j in range(1,n+1):\n",
    "        if i>j:\n",
    "            print(' ', end='')\n",
    "        else:\n",
    "            print(j, end='')\n",
    "    print()\n",
    "for i in range(1, n):\n",
    "    num = 1\n",
    "    for j in range(n+1, 1, -1):\n",
    "        if j==1:\n",
    "            continue\n",
    "        if j > i+2:\n",
    "            print(\" \", end=\"\")\n",
    "        else:\n",
    "            print(n - j+ 2, end=\"\")         \n",
    "    print()\n"
   ]
  }
 ],
 "metadata": {
  "kernelspec": {
   "display_name": "Python 3.10.7 64-bit (microsoft store)",
   "language": "python",
   "name": "python3"
  },
  "language_info": {
   "codemirror_mode": {
    "name": "ipython",
    "version": 3
   },
   "file_extension": ".py",
   "mimetype": "text/x-python",
   "name": "python",
   "nbconvert_exporter": "python",
   "pygments_lexer": "ipython3",
   "version": "3.10.7"
  },
  "orig_nbformat": 4,
  "vscode": {
   "interpreter": {
    "hash": "90c5c0dca48450ef7d71e5b6ab1ec9e6f3872ceb0893ce1be72b8202442b770e"
   }
  }
 },
 "nbformat": 4,
 "nbformat_minor": 2
}
