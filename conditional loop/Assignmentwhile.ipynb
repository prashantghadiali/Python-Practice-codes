{
 "cells": [
  {
   "cell_type": "markdown",
   "metadata": {},
   "source": [
    "Write a program that performs the tasks of a simple calculator. The program should first take an integer as input and then based on that integer perform the task as given below.\n",
    "1. If the input is 1, then 2 integers are taken from the user and their sum is printed.\n",
    "2. If the input is 2, then 2 integers are taken from the user and their difference(1st number - 2nd number) is printed.\n",
    "3. If the input is 3, then 2 integers are taken from the user and their product is printed.\n",
    "4. If the input is 4, then 2 integers are taken from the user and the quotient obtained (on dividing 1st number by 2nd number) is printed.\n",
    "5. If the input is 5, then 2 integers are taken from the user and their remainder(1st number mod 2nd number) is printed.\n",
    "6. If the input is 6, then the program exits.\n",
    "7. For any other input, then print \"Invalid Operation\"."
   ]
  },
  {
   "cell_type": "code",
   "execution_count": 12,
   "metadata": {},
   "outputs": [],
   "source": [
    "n=int(input())\n",
    "if n == 1:\n",
    "    A = int(input())\n",
    "    B = int(input())\n",
    "    sum=A+B\n",
    "    print(sum)\n",
    "elif n == 2:\n",
    "    A = int(input())\n",
    "    B = int(input())\n",
    "    dif=A-B\n",
    "    print(dif)\n",
    "elif n == 3:\n",
    "    A = int(input())\n",
    "    B = int(input())\n",
    "    pro=A*B\n",
    "    print(pro)\n",
    "elif n == 4:\n",
    "    A = int(input())\n",
    "    B = int(input())\n",
    "    div=A/B\n",
    "    print(div)\n",
    "elif n == 5:\n",
    "    A = int(input())\n",
    "    B = int(input())\n",
    "    div=A/B\n",
    "    print(div)\n",
    "elif n == 5:\n",
    "    A = int(input())\n",
    "    B = int(input())\n",
    "    mod=A%B\n",
    "    print(mod)\n",
    "else:\n",
    "    print(\"Invalid Operation\")\n",
    "\n",
    "\n"
   ]
  }
 ],
 "metadata": {
  "kernelspec": {
   "display_name": "Python 3.10.7 64-bit (microsoft store)",
   "language": "python",
   "name": "python3"
  },
  "language_info": {
   "codemirror_mode": {
    "name": "ipython",
    "version": 3
   },
   "file_extension": ".py",
   "mimetype": "text/x-python",
   "name": "python",
   "nbconvert_exporter": "python",
   "pygments_lexer": "ipython3",
   "version": "3.10.7"
  },
  "orig_nbformat": 4,
  "vscode": {
   "interpreter": {
    "hash": "90c5c0dca48450ef7d71e5b6ab1ec9e6f3872ceb0893ce1be72b8202442b770e"
   }
  }
 },
 "nbformat": 4,
 "nbformat_minor": 2
}
