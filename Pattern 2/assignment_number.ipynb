{
 "cells": [
  {
   "cell_type": "code",
   "execution_count": 84,
   "metadata": {},
   "outputs": [
    {
     "name": "stdout",
     "output_type": "stream",
     "text": [
      "1*****1\n",
      "12***21\n",
      "123*321\n",
      "12344321\n"
     ]
    }
   ],
   "source": [
    "N = int(input())\n",
    "i = 1\n",
    "for i in range(1, N+1):\n",
    "    for j in range(1, i+1):\n",
    "        print(j, end =\"\")\n",
    "    for j in range(1, 2*N - 2*i):\n",
    "        print(\"*\", end =\"\")\n",
    "    for j in range(i, 0, -1):\n",
    "        print(j, end = \"\")\n",
    "    print()\n",
    "    \n",
    "\n",
    "    \n",
    "\n",
    "        \n",
    "    "
   ]
  },
  {
   "cell_type": "code",
   "execution_count": 75,
   "metadata": {},
   "outputs": [
    {
     "name": "stdout",
     "output_type": "stream",
     "text": [
      "1      1\n",
      "12    21\n",
      "123  321\n",
      "12344321\n"
     ]
    }
   ],
   "source": [
    "n = int(input())\n",
    "for i in range(1,n+1):\n",
    "    for j in range(1,i+1):\n",
    "        print(j,end='')\n",
    "    for j in range(0,2*n-2*i):\n",
    "        print(\" \",end='')\n",
    "    for j in range(i,0,-1):\n",
    "        print(j,end='')\n",
    "    print('')"
   ]
  }
 ],
 "metadata": {
  "kernelspec": {
   "display_name": "Python 3.10.7 64-bit (microsoft store)",
   "language": "python",
   "name": "python3"
  },
  "language_info": {
   "codemirror_mode": {
    "name": "ipython",
    "version": 3
   },
   "file_extension": ".py",
   "mimetype": "text/x-python",
   "name": "python",
   "nbconvert_exporter": "python",
   "pygments_lexer": "ipython3",
   "version": "3.10.7"
  },
  "orig_nbformat": 4,
  "vscode": {
   "interpreter": {
    "hash": "90c5c0dca48450ef7d71e5b6ab1ec9e6f3872ceb0893ce1be72b8202442b770e"
   }
  }
 },
 "nbformat": 4,
 "nbformat_minor": 2
}
