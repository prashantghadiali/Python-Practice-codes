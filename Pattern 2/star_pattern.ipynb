{
 "cells": [
  {
   "cell_type": "code",
   "execution_count": 4,
   "metadata": {},
   "outputs": [
    {
     "name": "stdout",
     "output_type": "stream",
     "text": [
      "   *\n",
      "  ***\n",
      " *****\n",
      "*******\n"
     ]
    }
   ],
   "source": [
    "N = int(input())\n",
    "i = 1\n",
    "while i <= N:\n",
    "    space = 1\n",
    "    while space <= N - i:\n",
    "        print(' ', end = \"\")\n",
    "        space = space + 1\n",
    "    j = 1\n",
    "    P = 1\n",
    "    while j <= i:\n",
    "        print(\"*\", end= \"\")\n",
    "        j = j + 1\n",
    "        P = P + 1\n",
    "    P = i - 1\n",
    "    while (P >= 1):\n",
    "        print(\"*\", end = \"\")\n",
    "        P = P - 1\n",
    "    print()\n",
    "    i = i + 1"
   ]
  }
 ],
 "metadata": {
  "kernelspec": {
   "display_name": "Python 3.10.7 64-bit (microsoft store)",
   "language": "python",
   "name": "python3"
  },
  "language_info": {
   "codemirror_mode": {
    "name": "ipython",
    "version": 3
   },
   "file_extension": ".py",
   "mimetype": "text/x-python",
   "name": "python",
   "nbconvert_exporter": "python",
   "pygments_lexer": "ipython3",
   "version": "3.10.7"
  },
  "orig_nbformat": 4,
  "vscode": {
   "interpreter": {
    "hash": "90c5c0dca48450ef7d71e5b6ab1ec9e6f3872ceb0893ce1be72b8202442b770e"
   }
  }
 },
 "nbformat": 4,
 "nbformat_minor": 2
}
