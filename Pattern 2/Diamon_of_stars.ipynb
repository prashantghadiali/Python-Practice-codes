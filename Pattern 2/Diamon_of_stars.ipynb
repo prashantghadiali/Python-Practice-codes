{
 "cells": [
  {
   "cell_type": "code",
   "execution_count": 17,
   "metadata": {},
   "outputs": [
    {
     "name": "stdout",
     "output_type": "stream",
     "text": [
      "   *\n",
      "  ***\n",
      " *****\n",
      "*******\n"
     ]
    }
   ],
   "source": [
    "N = int(input())\n",
    "i = 1\n",
    "while i <= N:\n",
    "    space = 1\n",
    "    while space <= N - i:\n",
    "        print(' ', end = \"\")\n",
    "        space = space + 1\n",
    "    j = 1\n",
    "    P = 1\n",
    "    while j <= i:\n",
    "        print(\"*\", end= \"\")\n",
    "        j = j + 1\n",
    "        P = P + 1\n",
    "    P = P - 1\n",
    "    while (P > 1):\n",
    "        print(\"*\", end = \"\")\n",
    "        P = P - 1\n",
    "          \n",
    "    print()\n",
    "    i = i + 1"
   ]
  },
  {
   "cell_type": "markdown",
   "metadata": {},
   "source": [
    "n2 =3\n",
    "spc = n2 -i + 1 (for ith row)\n",
    "star = 2i -1\n"
   ]
  },
  {
   "cell_type": "code",
   "execution_count": 19,
   "metadata": {},
   "outputs": [
    {
     "name": "stdout",
     "output_type": "stream",
     "text": [
      "   *\n",
      "  ****\n",
      "\n",
      " ******\n",
      "*\n",
      "*\n",
      "*\n",
      "*\n",
      "*\n",
      "\n",
      "********\n",
      "*\n",
      "*\n",
      "*\n",
      "*\n",
      "*\n",
      "*\n",
      "*\n",
      "*\n",
      "*\n",
      "*\n",
      "*\n",
      "*\n",
      "*\n",
      "*\n",
      "\n"
     ]
    }
   ],
   "source": [
    "N = int(input())\n",
    "i = 1\n",
    "while i <= N:\n",
    "    space = 1\n",
    "    while space <= N - i:\n",
    "        print(' ', end = \"\")\n",
    "        space = space + 1\n",
    "    j = 1\n",
    "    P = 1\n",
    "    while j <= i:\n",
    "        print(\"*\", end= \"\")\n",
    "        j = j + 1\n",
    "        P = P + 1\n",
    "    P = P - 1\n",
    "    while (P > 1):\n",
    "        print(\"*\", end = \"\")\n",
    "        P = P - 1\n",
    "    N2 = 3\n",
    "    spaces = 3\n",
    "    while space <= N2 - i + 1:\n",
    "        print(' ', end = \"\")\n",
    "        space = space + 1\n",
    "    while space <= 2**i -1:\n",
    "        print('*', end = \"\")\n",
    "        space = space + 1\n",
    "    print()\n",
    "    i = i + 1"
   ]
  },
  {
   "cell_type": "code",
   "execution_count": 3,
   "metadata": {},
   "outputs": [
    {
     "name": "stdout",
     "output_type": "stream",
     "text": [
      "  *\n",
      " ***\n",
      "*****\n",
      " ***\n",
      "  *\n"
     ]
    }
   ],
   "source": [
    "n=int(input())\n",
    "n1=(n+1)//2\n",
    "n2=n//2\n",
    "for i in range(1,(n1+1)):\n",
    "    for s in range(n1-i):\n",
    "        print(\" \",end=\"\")\n",
    "    for j in range(2*i-1):\n",
    "        print(\"*\",end=\"\")\n",
    "    print()\n",
    "for i in range(n2,0,-1):\n",
    "    for s in range(n2-i+1):\n",
    "        print(\" \",end=\"\")\n",
    "    for j in range(2*i-1):\n",
    "        print(\"*\",end=\"\")\n",
    "    print()"
   ]
  }
 ],
 "metadata": {
  "kernelspec": {
   "display_name": "Python 3.10.7 64-bit (microsoft store)",
   "language": "python",
   "name": "python3"
  },
  "language_info": {
   "codemirror_mode": {
    "name": "ipython",
    "version": 3
   },
   "file_extension": ".py",
   "mimetype": "text/x-python",
   "name": "python",
   "nbconvert_exporter": "python",
   "pygments_lexer": "ipython3",
   "version": "3.10.7"
  },
  "orig_nbformat": 4,
  "vscode": {
   "interpreter": {
    "hash": "90c5c0dca48450ef7d71e5b6ab1ec9e6f3872ceb0893ce1be72b8202442b770e"
   }
  }
 },
 "nbformat": 4,
 "nbformat_minor": 2
}
