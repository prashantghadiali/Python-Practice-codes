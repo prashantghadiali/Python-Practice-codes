{
 "cells": [
  {
   "cell_type": "code",
   "execution_count": 1,
   "metadata": {},
   "outputs": [],
   "source": [
    "\n",
    "from sys import stdin\n",
    "\n",
    "\n",
    "def binarySearch(arr, n, x) :\n",
    "    #Your code goes here\n",
    "    lower_bound = 0\n",
    "    upper_bound = len(arr) - 1\n",
    "    while lower_bound <= upper_bound:\n",
    "        middle = (lower_bound + upper_bound) //2 #integer\n",
    "        if x == arr[middle]:\n",
    "            return middle\n",
    "        elif x < arr[middle]: #Lesser condition\n",
    "            #no change in lower bound\n",
    "            upper_bound = middle - 1\n",
    "        else:#greater condition\n",
    "            #upper bound remains same\n",
    "            lower_bound = middle + 1 \n",
    "    return -1\n",
    "    \n",
    "\n",
    "\n",
    "#Taking Input Using Fast I/O\n",
    "def takeInput() :\n",
    "    n = int(stdin.readline().strip())\n",
    "    \n",
    "    if n == 0 :\n",
    "        return list(), 0\n",
    "\n",
    "    arr = list(map(int, stdin.readline().strip().split(\" \")))\n",
    "    return arr, n\n",
    "\n",
    "\n",
    "#main\n",
    "arr, n = takeInput()\n",
    "t = int(stdin.readline().strip())\n",
    "\n",
    "while t > 0 :\n",
    "    \n",
    "    x = int(input().strip())    \n",
    "    print(binarySearch(arr, n, x))\n",
    "\n",
    "    t -= 1"
   ]
  }
 ],
 "metadata": {
  "kernelspec": {
   "display_name": "Python 3.10.7 64-bit (microsoft store)",
   "language": "python",
   "name": "python3"
  },
  "language_info": {
   "codemirror_mode": {
    "name": "ipython",
    "version": 3
   },
   "file_extension": ".py",
   "mimetype": "text/x-python",
   "name": "python",
   "nbconvert_exporter": "python",
   "pygments_lexer": "ipython3",
   "version": "3.10.7"
  },
  "orig_nbformat": 4,
  "vscode": {
   "interpreter": {
    "hash": "90c5c0dca48450ef7d71e5b6ab1ec9e6f3872ceb0893ce1be72b8202442b770e"
   }
  }
 },
 "nbformat": 4,
 "nbformat_minor": 2
}
