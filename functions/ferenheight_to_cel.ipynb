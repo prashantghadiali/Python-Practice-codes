{
 "cells": [
  {
   "cell_type": "code",
   "execution_count": 28,
   "metadata": {},
   "outputs": [
    {
     "name": "stdout",
     "output_type": "stream",
     "text": [
      "0 \t -17.77777777777778\n",
      "20 \t -6.666666666666667\n",
      "40 \t 4.444444444444445\n",
      "60 \t 15.555555555555557\n",
      "80 \t 26.666666666666668\n",
      "100 \t 37.77777777777778\n",
      "None\n"
     ]
    }
   ],
   "source": [
    "def printTable(start,end,step):\n",
    "    for i in range(start, end+step, step):\n",
    "        for j in range(start, end+step, step):\n",
    "            C = (5 / 9)*(start - 32)\n",
    "            print(start,\"\\t\",C)\n",
    "            start = start + step\n",
    "    pass\n",
    "#Implement Your Code Here\n",
    "\t   \n",
    "start = int(input())\n",
    "end = int(input())\n",
    "step = int(input())\n",
    "# i = 1\n",
    "# for i in range(1, end):\n",
    "#     for j in range(1, end):\n",
    "#         C = (5 / 9)*(start - 32)\n",
    "#         print(start ,\" \", C)\n",
    "#         start = start + step\n",
    "x = printTable(start,end,step)\n",
    "print(x)"
   ]
  },
  {
   "cell_type": "code",
   "execution_count": null,
   "metadata": {},
   "outputs": [],
   "source": [
    "def printTable(s,e,step):\n",
    "#Implement if 0<=s<=80 and s<=e<=900 and 0<=w<=40:\n",
    "    for s in range(s,e+1,step):\n",
    "        c=((s-32)*5)/9\n",
    "        print(s,\" \",int(c))\n",
    "        \n",
    "\n",
    "\t   \n",
    "s = int(input())\n",
    "e = int(input())\n",
    "step = int(input())\n",
    "printTable(s,e,step)"
   ]
  }
 ],
 "metadata": {
  "kernelspec": {
   "display_name": "Python 3.10.7 64-bit (microsoft store)",
   "language": "python",
   "name": "python3"
  },
  "language_info": {
   "name": "python",
   "version": "3.10.7"
  },
  "orig_nbformat": 4,
  "vscode": {
   "interpreter": {
    "hash": "90c5c0dca48450ef7d71e5b6ab1ec9e6f3872ceb0893ce1be72b8202442b770e"
   }
  }
 },
 "nbformat": 4,
 "nbformat_minor": 2
}
