{
 "cells": [
  {
   "cell_type": "code",
   "execution_count": 11,
   "metadata": {},
   "outputs": [],
   "source": [
    "def printTable(s,e,step):\n",
    "#Implement Your Code Here\n",
    "\tpass \n",
    "\n",
    "\t   \n",
    "s = int(input())\n",
    "e = int(input())\n",
    "step = int(input())\n",
    "F = s + step\n",
    "CV = ((5/9)*(F -32))\n",
    "printTable(s,e,step)"
   ]
  },
  {
   "cell_type": "code",
   "execution_count": 12,
   "metadata": {},
   "outputs": [],
   "source": [
    "def printTable(start,end,step):\n",
    "#Implement Your Code Here\n",
    "    F = start + step\n",
    "    CV = ((5/9)*(F -32))  \n",
    "\t   \n",
    "s = int(input())\n",
    "e = int(input())\n",
    "step = int(input())\n",
    "printTable(s,e,step)"
   ]
  },
  {
   "cell_type": "code",
   "execution_count": 1,
   "metadata": {},
   "outputs": [
    {
     "name": "stdout",
     "output_type": "stream",
     "text": [
      "None\n"
     ]
    }
   ],
   "source": [
    "def printTable(start,end,step):\n",
    "#Implement Your Code Here\n",
    "\tpass \n",
    "\n",
    "\t   \n",
    "s = int(input())\n",
    "e = int(input())\n",
    "step = int(input())\n",
    "i = 1\n",
    "for i in range(1, e, 1):\n",
    "    for j in range(s, e, step):\n",
    "        C = (5 / 9)*(s - 32)\n",
    "        F = s + step\n",
    "x = printTable(s,e,step)\n",
    "print(x)"
   ]
  }
 ],
 "metadata": {
  "kernelspec": {
   "display_name": "Python 3.10.7 64-bit (microsoft store)",
   "language": "python",
   "name": "python3"
  },
  "language_info": {
   "codemirror_mode": {
    "name": "ipython",
    "version": 3
   },
   "file_extension": ".py",
   "mimetype": "text/x-python",
   "name": "python",
   "nbconvert_exporter": "python",
   "pygments_lexer": "ipython3",
   "version": "3.10.7"
  },
  "orig_nbformat": 4,
  "vscode": {
   "interpreter": {
    "hash": "90c5c0dca48450ef7d71e5b6ab1ec9e6f3872ceb0893ce1be72b8202442b770e"
   }
  }
 },
 "nbformat": 4,
 "nbformat_minor": 2
}
